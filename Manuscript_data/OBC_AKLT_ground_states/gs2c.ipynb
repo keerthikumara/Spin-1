{
 "cells": [
  {
   "cell_type": "code",
   "execution_count": 2,
   "id": "d040f427-6059-4a7d-92a1-0946417a4b34",
   "metadata": {
    "tags": []
   },
   "outputs": [],
   "source": [
    "# Importing standard Qiskit libraries\n",
    "from qiskit import QuantumCircuit, transpile\n",
    "\n",
    "from qiskit.visualization import *\n",
    "\n",
    "from qiskit_ibm_runtime import QiskitRuntimeService, Sampler, Estimator, Session, Options\n",
    "\n",
    "# Loading your IBM Quantum account(s)\n",
    "service = QiskitRuntimeService(\n",
    "    channel='ibm_quantum')\n",
    "\n",
    "\n"
   ]
  },
  {
   "cell_type": "code",
   "execution_count": 4,
   "id": "0b611773-ddf1-40e5-a302-a190992a72b2",
   "metadata": {
    "tags": []
   },
   "outputs": [],
   "source": [
    "#importing pulse related packages\n",
    "\n",
    "from qiskit import pulse\n",
    "from qiskit.pulse import ControlChannel, DriveChannel, Play\n",
    "from qiskit.pulse.library import Drag\n",
    "from qiskit.circuit import Parameter, QuantumCircuit\n",
    "\n",
    "# from qiskit_ibm_provider import IBMProvider\n",
    "\n",
    "import numpy as np\n",
    "import pandas as pd"
   ]
  },
  {
   "cell_type": "markdown",
   "id": "6c73afbb-c58c-40ac-9320-1f9ee3ec72ce",
   "metadata": {},
   "source": [
    "## Backend details ##"
   ]
  },
  {
   "cell_type": "code",
   "execution_count": 4,
   "id": "13b4f86c-f81b-46ac-94b0-ab3140ee8ede",
   "metadata": {
    "tags": []
   },
   "outputs": [],
   "source": [
    "# Backend details, use IBMqiskitruntimeservice now since IBMProvider got deprecated.\n",
    "\n",
    "\n",
    "provider = IBMProvider()\n",
    "provider.backends()\n",
    "backend = provider.get_backend('ibm_hanoi')\n",
    "\n",
    "\n",
    "conf = backend.configuration()\n",
    "defs = backend.defaults()\n",
    "props = backend.properties()"
   ]
  },
  {
   "cell_type": "code",
   "execution_count": 37,
   "id": "0d337c43-2639-4295-91d8-b7bdb10ebd22",
   "metadata": {
    "tags": []
   },
   "outputs": [
    {
     "data": {
      "text/plain": [
       "<IBMBackend('ibm_hanoi')>"
      ]
     },
     "execution_count": 37,
     "metadata": {},
     "output_type": "execute_result"
    }
   ],
   "source": [
    "backend"
   ]
  },
  {
   "cell_type": "code",
   "execution_count": 24,
   "id": "2d129a1b",
   "metadata": {},
   "outputs": [
    {
     "data": {
      "image/png": "[encoded data removed]",
      "text/plain": [
       "<Figure size 454.517x200.667 with 1 Axes>"
      ]
     },
     "execution_count": 24,
     "metadata": {},
     "output_type": "execute_result"
    }
   ],
   "source": [
    "# Circuit diagram corresponding to gs 2 (c)\n",
    "\n",
    "qc = QuantumCircuit(2)\n",
    "qc.x(0)\n",
    "qc.h(0)\n",
    "qc.cx(0,1)\n",
    "qc.x(0)\n",
    "\n",
    "transpile(qc,initial_layout=[1,2])\n",
    "qc.draw(\"mpl\",idle_wires=False,filename=\"gs21.pdf\")\n"
   ]
  },
  {
   "cell_type": "code",
   "execution_count": 40,
   "id": "07f50ff8-093d-48ba-988b-2ba2ae37c681",
   "metadata": {
    "tags": []
   },
   "outputs": [],
   "source": [
    "#Fidelity circuits for gs 2 c. Since the state is restricted to 0-1 manifold. We dont need 4 circuits here (unlike gs 2 (a), gs 2 (b))\n",
    "\n",
    "qc = QuantumCircuit(2,2)\n",
    "qc.x(0)\n",
    "qc.h(0)\n",
    "qc.cx(0,1)\n",
    "qc.x(0)\n",
    "\n",
    "qc.measure_all()\n"
   ]
  },
  {
   "cell_type": "code",
   "execution_count": 41,
   "id": "66b66967-8e0e-4fbb-b498-4b61391bd032",
   "metadata": {
    "tags": []
   },
   "outputs": [
    {
     "name": "stderr",
     "output_type": "stream",
     "text": [
      "qiskit_runtime_service.__init__:INFO:2024-04-18 04:49:20,883: Default instance: ibm-q-ornl/ornl/cph140\n",
      "base_primitive._run_primitive:INFO:2024-04-18 04:49:24,000: Submitting job using options {'optimization_level': 1, 'resilience_level': 1, 'transpilation': {'skip_transpilation': True, 'optimization_settings': {'level': 1}}, 'resilience': {'level': 1}, 'execution': {'shots': 1000, 'init_qubits': True}, 'environment': {'log_level': 'WARNING'}, 'simulator': {'noise_model': Unset, 'seed_simulator': Unset, 'coupling_map': Unset, 'basis_gates': Unset}}\n"
     ]
    },
    {
     "name": "stdout",
     "output_type": "stream",
     "text": [
      "crgacn2qzd5000886cn0\n"
     ]
    }
   ],
   "source": [
    "# Job execution\n",
    "\n",
    "from math import pi\n",
    "from qiskit_ibm_runtime import Session, Estimator, Sampler, Options\n",
    "from qiskit_ibm_runtime import QiskitRuntimeService, Session, Sampler, Estimator, Options\n",
    "service = QiskitRuntimeService()\n",
    "\n",
    "options = Options(simulator={\"seed_simulator\": 42},resilience_level=0) \n",
    "\n",
    "with Session(service=service, backend='ibm_hanoi'):\n",
    "    sampler = Sampler() # Define sampler with options above\n",
    "    job = sampler.run(circuits=[transpile(qc,backend,initial_layout=[1,2])],skip_transpilation=True, shots =10**3) # build your code here\n",
    "    print(job.job_id())"
   ]
  },
  {
   "cell_type": "code",
   "execution_count": null,
   "id": "928e06fa",
   "metadata": {},
   "outputs": [],
   "source": [
    "#Job results retrieval"
   ]
  },
  {
   "cell_type": "code",
   "execution_count": 5,
   "id": "2802b7a3-5445-4532-96e7-782de02c5b5e",
   "metadata": {
    "tags": []
   },
   "outputs": [],
   "source": [
    "from math import pi\n",
    "from qiskit_ibm_runtime import Session, Estimator, Sampler, Options\n",
    "from qiskit_ibm_runtime import QiskitRuntimeService, Session, Sampler, Estimator, Options\n",
    "\n",
    "\n",
    "\n",
    "job = service.job('crgacn2qzd5000886cn0')\n",
    "\n",
    "Result = job.result()\n",
    "Result;"
   ]
  },
  {
   "cell_type": "code",
   "execution_count": 8,
   "id": "15de608d-a2cd-48fa-bbf5-03f9d41f119b",
   "metadata": {},
   "outputs": [
    {
     "name": "stdout",
     "output_type": "stream",
     "text": [
      "SamplerResult(quasi_dists=[{0: -0.000867587675595, 4: 0.495538879521627, 8: 0.508215411982771, 12: -0.002886703828803}], metadata=[{'shots': 1000, 'circuit_metadata': {}, 'readout_mitigation_overhead': 1.1845512537354415, 'readout_mitigation_time': 0.0844051989261061}])\n"
     ]
    }
   ],
   "source": [
    "#Shots \n",
    "print(Result)"
   ]
  },
  {
   "cell_type": "code",
   "execution_count": 15,
   "id": "38d0de6e-7cc5-46e2-a248-e05b1d16325b",
   "metadata": {
    "tags": []
   },
   "outputs": [],
   "source": [
    "# Ground state probabilioty wave vector\n",
    "\n",
    "P =  [-0.000867587675595, 0.495538879521627, 0.0, 0.508215411982771, 0 , -0.002886703828803,0, 0, 0]"
   ]
  },
  {
   "cell_type": "code",
   "execution_count": 16,
   "id": "88df5e77-2267-42cf-a84b-563e2145cff7",
   "metadata": {
    "tags": []
   },
   "outputs": [],
   "source": [
    "# Theoretical ground state probability wave vector\n",
    "\n",
    "Q = [0,0.5,0,0.5,0,0,0,0,0]"
   ]
  },
  {
   "cell_type": "code",
   "execution_count": 19,
   "id": "482a32bd-5bcf-48ac-8fc2-3d86dc18896d",
   "metadata": {
    "tags": []
   },
   "outputs": [
    {
     "name": "stdout",
     "output_type": "stream",
     "text": [
      "Hellinger Fidelity %: 100.37142665489418\n"
     ]
    }
   ],
   "source": [
    "#Hellinger fidelity computation\n",
    "\n",
    "def hellinger_fidelity(p, q):\n",
    "    \"\"\"\n",
    "    Compute the Hellinger Fidelity between two probability distributions p and q.\n",
    "    \n",
    "    Parameters:\n",
    "    p (list or numpy array): First probability distribution.\n",
    "    q (list or numpy array): Second probability distribution.\n",
    "    \n",
    "    Returns:\n",
    "    float: Hellinger Fidelity between the distributions.\n",
    "    \"\"\"\n",
    "    p = np.abs(p)\n",
    "    q = np.abs(q)\n",
    "    \n",
    "    assert len(p) == len(q), \"Distributions must have the same length\"\n",
    "    \n",
    "    return 100* (np.sum(np.sqrt(p*q)))**2\n",
    "\n",
    "\n",
    "fidelity = hellinger_fidelity(P, Q)\n",
    "print(\"Hellinger Fidelity %:\", fidelity)\n"
   ]
  }
 ],
 "metadata": {
  "kernelspec": {
   "display_name": "Qiskit v1.0.2 (ipykernel)",
   "language": "python",
   "name": "python3"
  },
  "language_info": {
   "codemirror_mode": {
    "name": "ipython",
    "version": 3
   },
   "file_extension": ".py",
   "mimetype": "text/x-python",
   "name": "python",
   "nbconvert_exporter": "python",
   "pygments_lexer": "ipython3",
   "version": "3.11.0"
  },
  "widgets": {
   "application/vnd.jupyter.widget-state+json": {
    "state": {},
    "version_major": 2,
    "version_minor": 0
   }
  }
 },
 "nbformat": 4,
 "nbformat_minor": 5
}
