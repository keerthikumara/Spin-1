{
 "cells": [
  {
   "cell_type": "code",
   "execution_count": 13,
   "id": "dba6fb47",
   "metadata": {},
   "outputs": [],
   "source": [
    "import numpy as np\n",
    "import cmath\n",
    "import scipy\n",
    "import random\n",
    "from scipy.linalg import hadamard\n",
    "from numpy.linalg import eig, qr, svd,inv\n",
    "import matplotlib.pyplot as plt"
   ]
  },
  {
   "cell_type": "code",
   "execution_count": 14,
   "id": "f39bc543",
   "metadata": {},
   "outputs": [],
   "source": [
    "#Pauli Matrices\n",
    "\n",
    "s0 = [[1,0,0],[0,1,0],[0,0,1]];\n",
    "s1 = [[0,1,0],[1,0,1],[0,1,0]]/np.sqrt(2);\n",
    "s2 = [[0,-1j,0],[1j,0,-1j],[0,1j,0]]/np.sqrt(2);\n",
    "s3 = [[1.0,0,0],[0,0,0],[0,0,-1.0]];"
   ]
  },
  {
   "cell_type": "code",
   "execution_count": 15,
   "id": "e2bccb75",
   "metadata": {},
   "outputs": [],
   "source": [
    "# useful for tensor products definition later on.\n",
    "m = [s0 for i in range(2)];"
   ]
  },
  {
   "cell_type": "code",
   "execution_count": 16,
   "id": "88a57925",
   "metadata": {},
   "outputs": [],
   "source": [
    "# Will be useful for longer chains, to define hamiltonian\n",
    "def func(n):\n",
    "    if(n == 1):\n",
    "        return(m[n-1])\n",
    " \n",
    "    return np.kron(m[n-1],func(n-1))\n",
    "\n"
   ]
  },
  {
   "cell_type": "code",
   "execution_count": 17,
   "id": "d50f8026",
   "metadata": {},
   "outputs": [],
   "source": [
    "#Getting four lowest eigen states\n",
    "\n",
    "def get_four_lowest_eigenvectors(matrix):\n",
    "    eigenvalues, eigenvectors = np.linalg.eig(matrix)\n",
    "    indices = np.argsort(eigenvalues)[0:4]  # Indices of the four lowest eigenvalues\n",
    "    four_eigenvectors = eigenvectors[:, indices]\n",
    "    return four_eigenvectors"
   ]
  },
  {
   "cell_type": "code",
   "execution_count": 18,
   "id": "c0a7d33e",
   "metadata": {},
   "outputs": [],
   "source": [
    "#S+,S- operators\n",
    "sp = s1+1j*s2\n",
    "sm = s1 -1j*s2"
   ]
  },
  {
   "cell_type": "code",
   "execution_count": 19,
   "id": "50146260",
   "metadata": {},
   "outputs": [],
   "source": [
    "#perturbed hamiltonian definition as a function of perturbation t\n",
    "\n",
    "def hp(t):\n",
    "    \n",
    "    n=2;\n",
    "\n",
    " \n",
    "  \n",
    "    H = np.zeros((3**n,3**n));\n",
    "\n",
    "    \n",
    "        \n",
    "    T = H;\n",
    "    m[0] = s3;\n",
    "    m[1] =s3;\n",
    "        \n",
    "    \n",
    "    T = T + func(n);\n",
    "        \n",
    "    \n",
    "    m[0] = 0.5*np.exp(1j*t)*sp;            # perturbation\n",
    "    m[1] =sm;\n",
    "    \n",
    "    T = T + func(n);\n",
    "        \n",
    "    m[0] = 0.5*np.exp(-1j*t)*sm;          # perturbation\n",
    "    m[1] =sp;\n",
    "       \n",
    "    T = T + func(n);\n",
    "         \n",
    "        \n",
    "        \n",
    "        \n",
    "    m[0] = s0;\n",
    "    m[1] =s0;\n",
    "        \n",
    "        \n",
    "        \n",
    "        \n",
    "    H = H + (T-H) + (0.99)*np.dot(T-H,T-H)/3;  # The coefficient has to be slightly off 1.0 to break degeneracy. Berry phase becomes complicated for degenerate systems\n",
    "        \n",
    "    T = H;\n",
    "    m[1] = s3;\n",
    "    m[0] =s3;\n",
    "        \n",
    "    \n",
    "    T = T + func(n);\n",
    "          \n",
    "    \n",
    "    m[1] = 0.5*np.exp(0)*sp;\n",
    "    m[0] =sm;\n",
    "    \n",
    "    T = T + func(n);\n",
    "        \n",
    "    m[1] = 0.5*np.exp(0)*sm;\n",
    "    m[0] =sp;\n",
    "       \n",
    "    T = T + func(n);\n",
    "        \n",
    "    m[1] =s0;\n",
    "    m[0] =s0;\n",
    "        \n",
    "    H = H + (T-H) + (0.99)*np.dot(T-H,T-H)/3;\n",
    "       \n",
    "\n",
    "        \n",
    "    return H\n",
    "\n",
    "    \n",
    "    \n",
    "    "
   ]
  },
  {
   "cell_type": "code",
   "execution_count": 20,
   "id": "1e34c361",
   "metadata": {},
   "outputs": [
    {
     "data": {
      "text/plain": [
       "array([ 0.00000000e+00+0.00000000e+00j,  0.00000000e+00+0.00000000e+00j,\n",
       "       -7.07106781e-01-8.65956056e-17j,  0.00000000e+00+0.00000000e+00j,\n",
       "       -5.94731992e-17+8.79076603e-17j,  0.00000000e+00+0.00000000e+00j,\n",
       "        7.07106781e-01+0.00000000e+00j,  0.00000000e+00+0.00000000e+00j,\n",
       "        0.00000000e+00+0.00000000e+00j])"
      ]
     },
     "execution_count": 20,
     "metadata": {},
     "output_type": "execute_result"
    }
   ],
   "source": [
    "w = get_four_lowest_eigenvectors(hp(np.pi))[:,0]\n",
    "\n",
    "w\n",
    "#getting ground state"
   ]
  },
  {
   "cell_type": "code",
   "execution_count": 21,
   "id": "8320247b",
   "metadata": {},
   "outputs": [],
   "source": [
    "#Gate definitions obtained from experiments\n",
    "\n",
    "I = 1j\n",
    "i  = [[1, 0, 0], [0, 1, 0], [0, 0, 1]];\n",
    "# x01_1 = [[0, 1, 0], [1, 0, 0], [0, 0, np.exp(1j*phi2_1)]] ;\n",
    "# x01_2 = [[0, 1, 0], [1, 0, 0], [0, 0, np.exp(1j*phi2_2)]] ;\n",
    "\n",
    "# x12_1 = [[np.exp(1j*phi0_1), 0, 0], [0, 0, 1], [0, 1, 0]] ;\n",
    "# x12_2 = [[np.exp(1j*phi0_2), 0, 0], [0, 0, 1], [0, 1, 0]] ;\n",
    "\n",
    "x01_1 = [[0, -1j, 0], [-1j, 0, 0], [0, 0, 1]] ;\n",
    "x01_2 = [[0, -1j, 0], [-1j, 0, 0], [0, 0, 1]] ;\n",
    "\n",
    "x12_1 = [[1, 0, 0], [0, 0, -1j], [0, -1j, 0]] ;\n",
    "x12_2 = [[1, 0, 0], [0, 0, -1j], [0, -1j, 0]] ;\n",
    "\n",
    "def u(t,p,l):\n",
    "    return np.array([[np.cos(t/2),-np.exp(1j*l)*np.sin(t/2),0],[np.exp(1j*p)*np.sin(t/2),np.exp(1j*(p+l))*np.cos(t/2),0],[0,0,1]])\n",
    "\n",
    "sx01_1 = [[1/np.sqrt(2), -1j/np.sqrt(2), 0], [-1j/np.sqrt(2),1/np.sqrt(2), \n",
    "    0], [0, 0, 1]] ;\n",
    "sx12_1 = [[1, 0, 0], [0, 1/np.sqrt(2), -1j/np.sqrt(2)], [0, -1j/np.sqrt(2), \n",
    "    1/np.sqrt(2)]] ;\n",
    "\n",
    "sx01_2 = [[1/np.sqrt(2), -1j/np.sqrt(2), 0], [-1j/np.sqrt(2),1/np.sqrt(2), \n",
    "    0], [0, 0, 1]] ;\n",
    "sx12_2 = [[1, 0, 0], [0, 1/np.sqrt(2), -1j/np.sqrt(2)], [0, -1j/np.sqrt(2), \n",
    "    1/np.sqrt(2)]] ;\n",
    "\n",
    "p0 = [[1, 0, 0], [0, 0, 0], [0, 0, 0]];\n",
    "p1 = [[0, 0, 0], [0, 1, 0], [0, 0, 0]];\n",
    "p2 = [[0, 0, 0], [0, 0, 0], [0, 0, 1]];\n",
    "cxq01 = np.kron(p0, i) + np.kron(p1, [[0, 1, 0], [1, 0, 0], [0, 0, 1j]]) + np.kron(p2, [[1,0,0],[0,1,0],[0,0,np.exp(1j)]]);"
   ]
  },
  {
   "cell_type": "code",
   "execution_count": 22,
   "id": "6c6d4912",
   "metadata": {},
   "outputs": [],
   "source": [
    "#Gate definitions\n",
    "\n",
    "def rz12(x):\n",
    "    return [[1,0,0],[0,np.exp(0),0],[0,0,np.exp(I*x)]]\n",
    "\n",
    "def rz01(x):\n",
    "    return [[np.exp(0),0,0],[0,np.exp(I*x),0],[0,0,1]]"
   ]
  },
  {
   "cell_type": "code",
   "execution_count": 23,
   "id": "1667cbaa",
   "metadata": {},
   "outputs": [],
   "source": [
    "# For perturbation 0\n",
    "\n",
    "hg = hp(0)"
   ]
  },
  {
   "cell_type": "code",
   "execution_count": 24,
   "id": "2df0d595",
   "metadata": {},
   "outputs": [],
   "source": [
    "#Cost function such that the solution is the ground state\n",
    "\n",
    "def G1(x):\n",
    "    a = x[0]\n",
    "    b =x[1]\n",
    "    c =x[2]\n",
    "    d =x[3]\n",
    "    e=x[4]\n",
    "    f=x[5]\n",
    "    g =x[6]\n",
    "    h = x[7]\n",
    "    \n",
    "    \n",
    "    \n",
    "\n",
    "\n",
    "\n",
    "    GS = np.kron(u(a,0,c),i)\n",
    "    \n",
    "\n",
    "    GS =GS@cxq01\n",
    "    \n",
    "    \n",
    "    GS =GS@np.kron(x12_1,i)\n",
    "    GS =GS@np.kron(i,x12_2)\n",
    "\n",
    "    GS =GS@np.kron(sx01_1,i)\n",
    "    GS =GS@np.kron(rz01(e),i)\n",
    "    GS =GS@np.kron(sx01_1,i)\n",
    "    GS =GS@np.kron(rz01(f),i)\n",
    "\n",
    "\n",
    "    GS =GS@cxq01\n",
    "   \n",
    "    GS = GS@np.kron(x01_1,i)\n",
    "    GS = GS@np.kron(x12_1,i)\n",
    "    GS = GS@np.kron(x01_1,i)\n",
    "\n",
    "    \n",
    "    \n",
    "    w = [1,0,0,0,0,0,0,0,0]\n",
    "    \n",
    "    w = w@GS\n",
    "    \n",
    "    \n",
    "    return np.linalg.norm(hg@w - np.sort(eig(hg)[0])[0]*w)\n",
    "\n"
   ]
  },
  {
   "cell_type": "code",
   "execution_count": 25,
   "id": "b4bd14e7",
   "metadata": {},
   "outputs": [],
   "source": [
    "#State vector coming from the circuit\n",
    "\n",
    "def g1(x):\n",
    "    \n",
    "    \n",
    "    \n",
    "    \n",
    "\n",
    "    a = x[0]\n",
    "    b =x[1]\n",
    "    c =x[2]\n",
    "    d =x[3]\n",
    "    e=x[4]\n",
    "    f=x[5]\n",
    "    g =x[6]\n",
    "    h = x[7]\n",
    "    \n",
    "    \n",
    "    \n",
    "\n",
    "\n",
    "    GS = np.kron(u(a,0,c),i)\n",
    "    \n",
    "\n",
    "    GS =GS@cxq01\n",
    "    \n",
    "    \n",
    "    GS =GS@np.kron(x12_1,i)\n",
    "    GS =GS@np.kron(i,x12_2)\n",
    "\n",
    "    GS =GS@np.kron(sx01_1,i)\n",
    "    GS =GS@np.kron(rz01(e),i)\n",
    "    GS =GS@np.kron(sx01_1,i)\n",
    "    GS =GS@np.kron(rz01(f),i)\n",
    "\n",
    "    GS =GS@cxq01\n",
    "   \n",
    "    GS = GS@np.kron(x01_1,i)\n",
    "    GS = GS@np.kron(x12_1,i)\n",
    "    GS = GS@np.kron(x01_1,i)\n",
    "\n",
    "    \n",
    "    \n",
    "    w = [1,0,0,0,0,0,0,0,0]\n",
    "    \n",
    "    w = w@GS\n",
    "    \n",
    "    \n",
    "    return w"
   ]
  },
  {
   "cell_type": "code",
   "execution_count": 26,
   "id": "83968fa9",
   "metadata": {},
   "outputs": [],
   "source": [
    "hg = hp(0)"
   ]
  },
  {
   "cell_type": "code",
   "execution_count": 27,
   "id": "f136e87b",
   "metadata": {},
   "outputs": [
    {
     "data": {
      "text/plain": [
       "(array([ 5.05222826e+00,  0.00000000e+00, -3.35593980e+00,  0.00000000e+00,\n",
       "        -7.85398332e+00,  1.27772365e-04,  0.00000000e+00,  0.00000000e+00]),\n",
       " 2.0866525521465995e-06,\n",
       " array([0.        , 0.        , 0.33333222, 0.        , 0.33333333,\n",
       "        0.        , 0.33333445, 0.        , 0.        ]))"
      ]
     },
     "execution_count": 27,
     "metadata": {},
     "output_type": "execute_result"
    }
   ],
   "source": [
    "# example: optimising hg =h(0) hamiltonian\n",
    " \n",
    "#  Cost function = Eigenvector equation with eigenvalue -2/3\n",
    "\n",
    "hg=hp(0)\n",
    "\n",
    "import numpy as np\n",
    "from scipy.optimize import minimize\n",
    "result = minimize(G1,[0,0,0,0,0,0,0,0],  method='CG')\n",
    "\n",
    "\n",
    "result.x,result.fun,np.abs(g1(result.x))**2"
   ]
  },
  {
   "cell_type": "code",
   "execution_count": 28,
   "id": "54bf3e52",
   "metadata": {},
   "outputs": [
    {
     "data": {
      "text/plain": [
       "(array([ 1.40627194,  0.        , -2.23596483,  0.        , -2.02313073,\n",
       "        -0.89759791,  0.        ,  0.        ]),\n",
       " 1.493881833644228e-08,\n",
       " array([0.        , 0.        , 0.41810842, 0.        , 0.16378317,\n",
       "        0.        , 0.4181084 , 0.        , 0.        ]))"
      ]
     },
     "execution_count": 28,
     "metadata": {},
     "output_type": "execute_result"
    }
   ],
   "source": [
    "# example: optimising hg =h(0) hamiltonian\n",
    "#  Does cost function need to be changed?    \n",
    "#  Cost function = Eigenvector equation with eigenvalue -2/3\n",
    "\n",
    "hg=hp(4*np.pi/7)\n",
    "\n",
    "import numpy as np\n",
    "from scipy.optimize import minimize\n",
    "result = minimize(G1,[0,0,0,0,0,0,0,0],  method='CG')\n",
    "\n",
    "\n",
    "result.x,result.fun,np.abs(g1(result.x))**2"
   ]
  },
  {
   "cell_type": "code",
   "execution_count": 29,
   "id": "d0156beb",
   "metadata": {},
   "outputs": [
    {
     "data": {
      "text/plain": [
       "(array([ 1.36846073,  0.        , -1.95390752,  0.        , -1.90781497,\n",
       "        -0.78539817,  0.        ,  0.        ]),\n",
       " 2.5831463595576937e-08,\n",
       " array([0.        , 0.        , 0.39952109, 0.        , 0.2009578 ,\n",
       "        0.        , 0.39952112, 0.        , 0.        ]))"
      ]
     },
     "execution_count": 29,
     "metadata": {},
     "output_type": "execute_result"
    }
   ],
   "source": [
    "# example: optimising hg =h(0) hamiltonian\n",
    "#  Does cost function need to be changed?    \n",
    "#  Cost function = Eigenvector equation with eigenvalue -2/3\n",
    "\n",
    "hg=hp(np.pi/2)\n",
    "\n",
    "import numpy as np\n",
    "from scipy.optimize import minimize\n",
    "result = minimize(G1,[0,0,0,0,0,0,0,0],  method='CG')\n",
    "\n",
    "\n",
    "result.x,result.fun,np.abs(g1(result.x))**2"
   ]
  },
  {
   "cell_type": "code",
   "execution_count": 30,
   "id": "c69405a6",
   "metadata": {},
   "outputs": [
    {
     "data": {
      "text/plain": [
       "(array([ 4.82472468,  0.        ,  0.51284202,  0.        , -2.21030367,\n",
       "        -1.04719757,  0.        ,  0.        ]),\n",
       " 1.5136538389879565e-08,\n",
       " array([0.        , 0.        , 0.44395021, 0.        , 0.11209958,\n",
       "        0.        , 0.44395021, 0.        , 0.        ]))"
      ]
     },
     "execution_count": 30,
     "metadata": {},
     "output_type": "execute_result"
    }
   ],
   "source": [
    "hg=hp(2*np.pi/3)\n",
    "\n",
    "import numpy as np\n",
    "from scipy.optimize import minimize\n",
    "result = minimize(G1,[0,0,0,0,0,0,0,0],  method='BFGS')\n",
    "\n",
    "\n",
    "result.x,result.fun,np.abs(g1(result.x))**2\n"
   ]
  },
  {
   "cell_type": "code",
   "execution_count": 31,
   "id": "1c379c59",
   "metadata": {},
   "outputs": [
    {
     "data": {
      "text/plain": [
       "(array([ 1.32091634,  0.        , -1.57547149,  0.        , -1.77926162,\n",
       "        -0.62831853,  0.        ,  0.        ]),\n",
       " 4.2734412416791234e-08,\n",
       " array([0.        , 0.        , 0.37635616, 0.        , 0.24728767,\n",
       "        0.        , 0.37635617, 0.        , 0.        ]))"
      ]
     },
     "execution_count": 31,
     "metadata": {},
     "output_type": "execute_result"
    }
   ],
   "source": [
    "hg=hp(2*np.pi/5)\n",
    "\n",
    "import numpy as np\n",
    "from scipy.optimize import minimize\n",
    "result = minimize(G1,[0,0,0,0,0,0,0,0],  method='BFGS')\n",
    "\n",
    "\n",
    "result.x,result.fun,np.abs(g1(result.x))**2\n"
   ]
  },
  {
   "cell_type": "code",
   "execution_count": 32,
   "id": "5891e37f",
   "metadata": {},
   "outputs": [
    {
     "data": {
      "text/plain": [
       "(array([ 1.29400965,  0.        , -1.33280211,  0.        , -1.71280047,\n",
       "        -0.52359911,  0.        ,  0.        ]),\n",
       " 1.0852470017909032e-07,\n",
       " array([0.        , 0.        , 0.36336698, 0.        , 0.27326601,\n",
       "        0.        , 0.36336701, 0.        , 0.        ]))"
      ]
     },
     "execution_count": 32,
     "metadata": {},
     "output_type": "execute_result"
    }
   ],
   "source": [
    "hg=hp(2*np.pi/6)\n",
    "\n",
    "import numpy as np\n",
    "from scipy.optimize import minimize\n",
    "result = minimize(G1,[0,0,0,0,0,0,0,0],  method='BFGS')\n",
    "\n",
    "\n",
    "result.x,result.fun,np.abs(g1(result.x))**2\n"
   ]
  },
  {
   "cell_type": "code",
   "execution_count": 33,
   "id": "0357b8bf",
   "metadata": {},
   "outputs": [
    {
     "data": {
      "text/plain": [
       "(array([ 1.27750049,  0.        , -1.16375118,  0.        , -1.67389836,\n",
       "        -0.44879916,  0.        ,  0.        ]),\n",
       " 1.2568889545976345e-07,\n",
       " array([0.        , 0.        , 0.35544556, 0.        , 0.28910862,\n",
       "        0.        , 0.35544582, 0.        , 0.        ]))"
      ]
     },
     "execution_count": 33,
     "metadata": {},
     "output_type": "execute_result"
    }
   ],
   "source": [
    "hg=hp(2*np.pi/7)\n",
    "\n",
    "import numpy as np\n",
    "from scipy.optimize import minimize\n",
    "result = minimize(G1,[0,0,0,0,0,0,0,0],  method='BFGS')\n",
    "\n",
    "\n",
    "result.x,result.fun,np.abs(g1(result.x))**2\n"
   ]
  },
  {
   "cell_type": "code",
   "execution_count": 34,
   "id": "42d5229f",
   "metadata": {},
   "outputs": [
    {
     "data": {
      "text/plain": [
       "(array([ 1.36846078,  0.        ,  1.18768511,  0.        , -8.19100026,\n",
       "         0.78539812,  0.        ,  0.        ]),\n",
       " 2.493740468599583e-08,\n",
       " array([0.        , 0.        , 0.39952111, 0.        , 0.20095779,\n",
       "        0.        , 0.3995211 , 0.        , 0.        ]))"
      ]
     },
     "execution_count": 34,
     "metadata": {},
     "output_type": "execute_result"
    }
   ],
   "source": [
    "# example: optimising hg =h(0) hamiltonian\n",
    "#  Does cost function need to be changed?    \n",
    "#  Cost function = Eigenvector equation with eigenvalue -2/3\n",
    "\n",
    "hg=hp(3*np.pi/2)\n",
    "\n",
    "import numpy as np\n",
    "from scipy.optimize import minimize\n",
    "result = minimize(G1,[0,0,0,0,0,0,0,0],  method='CG')\n",
    "\n",
    "\n",
    "result.x,result.fun,np.abs(g1(result.x))**2"
   ]
  },
  {
   "cell_type": "code",
   "execution_count": 35,
   "id": "03629936",
   "metadata": {},
   "outputs": [
    {
     "data": {
      "text/plain": [
       "(array([ 1.45846064,  0.        ,  1.56003955,  0.        , -2.21030365,\n",
       "         1.04719752,  0.        ,  0.        ]),\n",
       " 2.570962049387012e-08,\n",
       " array([0.        , 0.        , 0.44395022, 0.        , 0.11209958,\n",
       "        0.        , 0.4439502 , 0.        , 0.        ]))"
      ]
     },
     "execution_count": 35,
     "metadata": {},
     "output_type": "execute_result"
    }
   ],
   "source": [
    "hg=hp(4*np.pi/3)\n",
    "\n",
    "import numpy as np\n",
    "from scipy.optimize import minimize\n",
    "result = minimize(G1,[0,0,0,0,0,0,0,0],  method='BFGS')\n",
    "\n",
    "\n",
    "result.x,result.fun,np.abs(g1(result.x))**2\n"
   ]
  },
  {
   "cell_type": "code",
   "execution_count": 36,
   "id": "f398bf74",
   "metadata": {},
   "outputs": [
    {
     "data": {
      "text/plain": [
       "(array([ 4.7585407 ,  0.        , -0.07014538,  0.        , -2.53852046,\n",
       "        -1.25663707,  0.        ,  0.        ]),\n",
       " 9.231643769047608e-09,\n",
       " array([0.        , 0.        , 0.47693233, 0.        , 0.04613534,\n",
       "        0.        , 0.47693233, 0.        , 0.        ]))"
      ]
     },
     "execution_count": 36,
     "metadata": {},
     "output_type": "execute_result"
    }
   ],
   "source": [
    "hg=hp(4*np.pi/5)\n",
    "\n",
    "import numpy as np\n",
    "from scipy.optimize import minimize\n",
    "result = minimize(G1,[0,0,0,0,0,0,0,0],  method='BFGS')\n",
    "\n",
    "\n",
    "result.x,result.fun,np.abs(g1(result.x))**2\n"
   ]
  },
  {
   "cell_type": "code",
   "execution_count": 37,
   "id": "46421c65",
   "metadata": {},
   "outputs": [
    {
     "data": {
      "text/plain": [
       "(array([-1.52464461,  0.        , -1.92985465,  0.        , -3.74466487,\n",
       "        -1.88495561,  0.        ,  0.        ]),\n",
       " 1.5473231179612893e-08,\n",
       " array([0.        , 0.        , 0.47693233, 0.        , 0.04613535,\n",
       "        0.        , 0.47693232, 0.        , 0.        ]))"
      ]
     },
     "execution_count": 37,
     "metadata": {},
     "output_type": "execute_result"
    }
   ],
   "source": [
    "hg=hp(6*np.pi/5)\n",
    "\n",
    "import numpy as np\n",
    "from scipy.optimize import minimize\n",
    "result = minimize(G1,[0,0,0,0,0,0,0,0],  method='BFGS')\n",
    "\n",
    "\n",
    "result.x,result.fun,np.abs(g1(result.x))**2\n"
   ]
  },
  {
   "cell_type": "code",
   "execution_count": 38,
   "id": "33f08ced",
   "metadata": {},
   "outputs": [
    {
     "data": {
      "text/plain": [
       "(array([ 1.40627187,  0.        , -2.23596492,  0.        , -2.02313077,\n",
       "        -0.89759794,  0.        ,  0.        ]),\n",
       " 3.502231385058304e-08,\n",
       " array([0.        , 0.        , 0.41810839, 0.        , 0.16378317,\n",
       "        0.        , 0.41810844, 0.        , 0.        ]))"
      ]
     },
     "execution_count": 38,
     "metadata": {},
     "output_type": "execute_result"
    }
   ],
   "source": [
    "hg=hp(4*np.pi/7)\n",
    "\n",
    "import numpy as np\n",
    "from scipy.optimize import minimize\n",
    "result = minimize(G1,[0,0,0,0,0,0,0,0],  method='BFGS')\n",
    "\n",
    "\n",
    "result.x,result.fun,np.abs(g1(result.x))**2\n"
   ]
  },
  {
   "cell_type": "code",
   "execution_count": 39,
   "id": "b0d0bbfd",
   "metadata": {},
   "outputs": [
    {
     "data": {
      "text/plain": [
       "(array([20.39586053,  0.        ,  2.36996094,  0.        , -3.58245397,\n",
       "         1.79519579,  0.        ,  0.        ]),\n",
       " 1.1423738759105725e-08,\n",
       " array([0.        , 0.        , 0.48775536, 0.        , 0.02448927,\n",
       "        0.        , 0.48775536, 0.        , 0.        ]))"
      ]
     },
     "execution_count": 39,
     "metadata": {},
     "output_type": "execute_result"
    }
   ],
   "source": [
    "hg=hp(6*np.pi/7)\n",
    "\n",
    "import numpy as np\n",
    "from scipy.optimize import minimize\n",
    "result = minimize(G1,[0,0,0,0,0,0,0,0],  method='BFGS')\n",
    "\n",
    "\n",
    "result.x,result.fun,np.abs(g1(result.x))**2\n"
   ]
  },
  {
   "cell_type": "code",
   "execution_count": 40,
   "id": "859c752a",
   "metadata": {},
   "outputs": [
    {
     "data": {
      "text/plain": [
       "(array([ 1.29400921,  0.        ,  0.76159287,  0.        , -1.71280072,\n",
       "         0.52359845,  0.        ,  0.        ]),\n",
       " 1.311598488094558e-07,\n",
       " array([0.        , 0.        , 0.36336677, 0.        , 0.27326603,\n",
       "        0.        , 0.36336721, 0.        , 0.        ]))"
      ]
     },
     "execution_count": 40,
     "metadata": {},
     "output_type": "execute_result"
    }
   ],
   "source": [
    "hg=hp(10*np.pi/6)\n",
    "\n",
    "import numpy as np\n",
    "from scipy.optimize import minimize\n",
    "result = minimize(G1,[0,0,0,0,0,0,0,0],  method='BFGS')\n",
    "\n",
    "\n",
    "result.x,result.fun,np.abs(g1(result.x))**2\n"
   ]
  },
  {
   "cell_type": "code",
   "execution_count": 41,
   "id": "b3b02a0d",
   "metadata": {},
   "outputs": [
    {
     "data": {
      "text/plain": [
       "(array([-4.73688071,  0.        ,  1.91322434,  0.        , -2.70073136,\n",
       "         1.34639684,  0.        ,  0.        ]),\n",
       " 1.047611198650322e-08,\n",
       " array([0.        , 0.        , 0.48775536, 0.        , 0.02448927,\n",
       "        0.        , 0.48775537, 0.        , 0.        ]))"
      ]
     },
     "execution_count": 41,
     "metadata": {},
     "output_type": "execute_result"
    }
   ],
   "source": [
    "hg=hp(8*np.pi/7)\n",
    "\n",
    "import numpy as np\n",
    "from scipy.optimize import minimize\n",
    "result = minimize(G1,[0,0,0,0,0,0,0,0],  method='BFGS')\n",
    "\n",
    "\n",
    "result.x,result.fun,np.abs(g1(result.x))**2\n"
   ]
  },
  {
   "cell_type": "code",
   "execution_count": 42,
   "id": "100cae10",
   "metadata": {},
   "outputs": [
    {
     "data": {
      "text/plain": [
       "(array([ 1.40627189,  0.        ,  1.35442674,  0.        , -2.02313076,\n",
       "         0.89759789,  0.        ,  0.        ]),\n",
       " 1.8801629701220288e-08,\n",
       " array([0.        , 0.        , 0.41810839, 0.        , 0.16378317,\n",
       "        0.        , 0.41810843, 0.        , 0.        ]))"
      ]
     },
     "execution_count": 42,
     "metadata": {},
     "output_type": "execute_result"
    }
   ],
   "source": [
    "hg=hp(10*np.pi/7)\n",
    "\n",
    "import numpy as np\n",
    "from scipy.optimize import minimize\n",
    "result = minimize(G1,[0,0,0,0,0,0,0,0],  method='BFGS')\n",
    "\n",
    "\n",
    "result.x,result.fun,np.abs(g1(result.x))**2\n"
   ]
  },
  {
   "cell_type": "code",
   "execution_count": 43,
   "id": "316f5bdb",
   "metadata": {},
   "outputs": [
    {
     "data": {
      "text/plain": [
       "(array([1.27750021, 0.        , 0.63144367, 0.        , 4.60928666,\n",
       "        0.44879832, 0.        , 0.        ]),\n",
       " 1.6776386995309957e-07,\n",
       " array([0.        , 0.        , 0.35544542, 0.        , 0.28910859,\n",
       "        0.        , 0.35544599, 0.        , 0.        ]))"
      ]
     },
     "execution_count": 43,
     "metadata": {},
     "output_type": "execute_result"
    }
   ],
   "source": [
    "hg=hp(12*np.pi/7)\n",
    "\n",
    "import numpy as np\n",
    "from scipy.optimize import minimize\n",
    "result = minimize(G1,[0,0,0,0,0,0,0,0],  method='BFGS')\n",
    "\n",
    "\n",
    "result.x,result.fun,np.abs(g1(result.x))**2\n"
   ]
  },
  {
   "cell_type": "code",
   "execution_count": null,
   "id": "bc482fcc",
   "metadata": {},
   "outputs": [],
   "source": [
    "# Berry phase estimation using exact ground states and Ansatz states"
   ]
  },
  {
   "cell_type": "code",
   "execution_count": 44,
   "id": "ad69f26e",
   "metadata": {},
   "outputs": [
    {
     "name": "stdout",
     "output_type": "stream",
     "text": [
      "3.753334944223374e-07\n",
      "0.036009756996791556 0.03601270115188251\n",
      "5.136490453627009e-07\n",
      "0.07240554661951548 0.07240464574049757\n",
      "1.5446577985095619e-07\n",
      "0.10957203566432344 0.10956900472716627\n",
      "2.8512749872230644e-07\n",
      "0.14792967077926353 0.14792768117170935\n",
      "1.489489108478659e-07\n",
      "0.1879494718887912 0.1879479244732096\n",
      "2.2388388455213374e-07\n",
      "0.23016331505091264 0.23016179001441844\n",
      "1.301294961077542e-07\n",
      "0.2751911635881866 0.2751896055218668\n",
      "9.247879793950172e-08\n",
      "0.32377016125902336 0.3237686874901863\n",
      "1.9951316627029562e-08\n",
      "0.3767899766961369 0.37678842977157656\n",
      "7.246770871401977e-08\n",
      "0.4353337080849973 0.43533219764811976\n",
      "2.989030226355325e-08\n",
      "0.5007259282067043 0.5007244162115381\n",
      "2.2455013229835428e-08\n",
      "0.5745777385496458 0.5745762355650779\n",
      "2.3719249521806066e-08\n",
      "0.6588137291716514 0.6588122007588847\n",
      "1.5136538389879565e-08\n",
      "0.7556403513444201 0.7556388214670713\n",
      "9.633101557539605e-09\n",
      "0.8673812610213399 0.8673797349131337\n",
      "1.2909896675065727e-08\n",
      "0.996060105578167 0.9960585872438203\n",
      "6.5288624544986334e-09\n",
      "1.1426091017811082 1.1426075750751559\n",
      "1.0111717769185333e-08\n",
      "1.3057401420491843 1.3057386212494386\n",
      "8.831581124593548e-09\n",
      "1.4809550403553948 1.4809535183334779\n",
      "1.4364903121298904e-08\n",
      "1.6606406703932923 1.6606391352563115\n",
      "1.1377382265098498e-08\n",
      "1.8358555545271886 1.8358540323403505\n",
      "8.982617658621875e-09\n",
      "1.9989866005259613 1.9989850785146337\n",
      "9.031490875940085e-09\n",
      "2.1455355955371993 2.1455340663459697\n",
      "1.2273802809849855e-08\n",
      "2.27421445745889 2.274212918676656\n",
      "1.1724896854791523e-08\n",
      "2.3859553646814295 2.3859538321227185\n",
      "1.4163316837080063e-08\n",
      "2.482781991181453 2.4827804528309048\n",
      "2.570962049387012e-08\n",
      "2.5670179754285067 2.567016418024713\n",
      "2.4597497415646917e-08\n",
      "2.640869782381128 2.640868237378253\n",
      "2.075028717980115e-08\n",
      "2.706261993615956 2.7062604559416705\n",
      "1.817926671363853e-08\n",
      "2.764805825642765 2.7648042238182136\n",
      "4.661085333328691e-08\n",
      "2.8178255570295483 2.817823966099605\n",
      "5.361755437417645e-08\n",
      "2.8664047174404232 2.866403048067923\n",
      "6.79212329244634e-08\n",
      "2.911432819662297 2.9114308635753723\n",
      "1.3005734151018158e-07\n",
      "2.953647262865807 2.9536447291165797\n",
      "2.4779763092567965e-07\n",
      "2.9936667679893207 2.99366497241808\n",
      "1.0860073645489578e-07\n",
      "3.0320277019806157 3.0320236488626304\n",
      "3.831085174253554e-07\n",
      "3.0691911591578194 3.069188007849296\n",
      "4.0947775477772457e-07\n",
      "3.1056081723602036 3.1055799524379086\n",
      "1.3445731679461447e-06\n",
      "3.141595786859979 3.1415926535897936\n",
      "1.0000009973508763 1.0000000000000002\n"
     ]
    }
   ],
   "source": [
    "\n",
    "#t runs from 0 to 2*pi with N divisons\n",
    "m = [s0 for i in range(2)];\n",
    "# B = np.eye(4)  # Berry phase from ED \n",
    "B_a = 0\n",
    "B_a_l = []\n",
    "B_e = 0\n",
    "B_e_l = []\n",
    "N = 40 #number of divisions\n",
    "t = np.linspace(0,2*np.pi,N);#perturbation angles\n",
    "\n",
    "t[-1] =0.0;#final perturbation = initial perturbation\n",
    "\n",
    "hg = hp(0) #initial unperturbed hamiltonian \n",
    "\n",
    "G=np.random.random(9) # G for gauge fixing\n",
    "\n",
    "#Calculating berry phase\n",
    "for j in range(len(t)-1):\n",
    "       \n",
    "       #hamiltonian of the intermediate time step j\n",
    "       hg = hp(t[j])\n",
    "       \n",
    "       #obtaining groundstates \n",
    "       l1 = get_four_lowest_eigenvectors(hg)[:,0]\n",
    "       \n",
    "       l2 = g1(minimize(G1,[0,0,0,0,0,0,0,0],  method='BFGS').x)\n",
    "       print(G1(minimize(G1,[0,0,0,0,0,0,0,0],  method='BFGS').x))\n",
    "       \n",
    "       l2 = np.vdot(l2,G)*l2 \n",
    "       l1 = np.vdot(l1,G)*l1 \n",
    "       #hamiltonian for the t[j+1] th step \n",
    "    \n",
    "        \n",
    "       hg = hp(t[j+1])\n",
    "        \n",
    "       r2 = g1(minimize(G1,[0,0,0,0,0,0,0,0],  method='BFGS').x)\n",
    "       r1 = get_four_lowest_eigenvectors(hg)[:,0]\n",
    "       \n",
    "        \n",
    "       r2 = np.vdot(r2,G)*r2\n",
    "       r1 = np.vdot(r1,G)*r1 \n",
    "       \n",
    "       \n",
    "       r2 = r2\n",
    "    \n",
    "       B_a = B_a + cmath.phase(np.vdot(l2,r2)/np.linalg.norm(l2))        # Berry phase increment terms\n",
    "       B_e = B_e + cmath.phase(np.vdot(l1,r1)/np.linalg.norm(l1))\n",
    "       B_a_l.append(B_a)\n",
    "       B_e_l.append(B_e)\n",
    "       \n",
    "       print(B_a,B_e)\n",
    " \n",
    "B_a = ((B_a/np.pi))%2\n",
    "B_e = ((B_e/np.pi))%2\n",
    "#Printing berry phase    \n",
    "print(B_a,B_e)   "
   ]
  },
  {
   "cell_type": "code",
   "execution_count": 46,
   "id": "960017b0",
   "metadata": {},
   "outputs": [
    {
     "data": {
      "image/png": "[encoded data removed]",
      "text/plain": [
       "<Figure size 640x480 with 1 Axes>"
      ]
     },
     "metadata": {},
     "output_type": "display_data"
    }
   ],
   "source": [
    "#Berry phase convergence plot n=40\n",
    "\n",
    "plt.plot(np.linspace(0,2*np.pi,39),B_a_l,\"+r\",label=\"Ansatz\")\n",
    "plt.plot(np.linspace(0,2*np.pi,39),B_e_l,\"xb\",label=\"ED state\")\n",
    "plt.plot(np.linspace(0,2*np.pi,39),np.ones(39)*np.pi,\"--g\",label =\"$\\pi$\")\n",
    "\n",
    "plt.xlabel(\"Perturbation angle\")\n",
    "plt.ylabel(\"Phase accumulated\")\n",
    "plt.title(\"$\\Phi_B$ accumulated with pertubration angle\")\n",
    "plt.legend()\n",
    "plt.savefig(\"BP_accumulation_n40.pdf\")"
   ]
  }
 ],
 "metadata": {
  "kernelspec": {
   "display_name": "Python 3 (ipykernel)",
   "language": "python",
   "name": "python3"
  },
  "language_info": {
   "codemirror_mode": {
    "name": "ipython",
    "version": 3
   },
   "file_extension": ".py",
   "mimetype": "text/x-python",
   "name": "python",
   "nbconvert_exporter": "python",
   "pygments_lexer": "ipython3",
   "version": "3.11.0"
  }
 },
 "nbformat": 4,
 "nbformat_minor": 5
}
